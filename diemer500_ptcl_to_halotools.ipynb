{
 "cells": [
  {
   "cell_type": "code",
   "execution_count": 1,
   "metadata": {
    "collapsed": true
   },
   "outputs": [],
   "source": [
    "import numpy as np"
   ]
  },
  {
   "cell_type": "code",
   "execution_count": 2,
   "metadata": {
    "collapsed": false
   },
   "outputs": [],
   "source": [
    "ptcl_pos = np.loadtxt('../diemer_antonio/diemer500_z0.0_10p.ascii')"
   ]
  },
  {
   "cell_type": "code",
   "execution_count": 3,
   "metadata": {
    "collapsed": false
   },
   "outputs": [
    {
     "data": {
      "text/plain": [
       "array([[ 0.363354  ,  1.41935694,  0.09557818],\n",
       "       [ 1.09569216,  1.76393569,  0.47715843],\n",
       "       [ 1.26066601,  1.67095923,  0.58069026],\n",
       "       [ 1.12680423,  1.50711679,  1.24576616],\n",
       "       [ 0.55132085,  0.93077445,  1.16015351]])"
      ]
     },
     "execution_count": 3,
     "metadata": {},
     "output_type": "execute_result"
    }
   ],
   "source": [
    "ptcl_pos[:5]"
   ]
  },
  {
   "cell_type": "code",
   "execution_count": 4,
   "metadata": {
    "collapsed": true
   },
   "outputs": [],
   "source": [
    "x = ptcl_pos[:,0]\n",
    "y = ptcl_pos[:,1]\n",
    "z = ptcl_pos[:,2]"
   ]
  },
  {
   "cell_type": "code",
   "execution_count": 5,
   "metadata": {
    "collapsed": false
   },
   "outputs": [
    {
     "data": {
      "text/plain": [
       "array([ 0.363354  ,  1.09569216,  1.26066601, ...,  0.12604897,\n",
       "        0.94729936,  0.43722615])"
      ]
     },
     "execution_count": 5,
     "metadata": {},
     "output_type": "execute_result"
    }
   ],
   "source": [
    "x"
   ]
  },
  {
   "cell_type": "code",
   "execution_count": 6,
   "metadata": {
    "collapsed": false
   },
   "outputs": [
    {
     "data": {
      "text/plain": [
       "107369756"
      ]
     },
     "execution_count": 6,
     "metadata": {},
     "output_type": "execute_result"
    }
   ],
   "source": [
    "x.size"
   ]
  },
  {
   "cell_type": "code",
   "execution_count": 7,
   "metadata": {
    "collapsed": true
   },
   "outputs": [],
   "source": [
    "from halotools.sim_manager import UserSuppliedPtclCatalog"
   ]
  },
  {
   "cell_type": "code",
   "execution_count": 8,
   "metadata": {
    "collapsed": true
   },
   "outputs": [],
   "source": [
    "ptcl_catalog = UserSuppliedPtclCatalog(Lbox = 500,particle_mass = 1.03395e11,redshift = 0, x=x, y=y, z=z)"
   ]
  },
  {
   "cell_type": "code",
   "execution_count": 9,
   "metadata": {
    "collapsed": false
   },
   "outputs": [],
   "source": [
    "ptcl_catalog.add_ptclcat_to_cache(\\\n",
    "    '/home/kuw8/.astropy/cache/halotools/particle_catalogs/diemerL0500/hlist_1.00000.particles.antonioz0.hdf5',\\\n",
    "    'diemerL0500', 'antonioz0', '#')"
   ]
  },
  {
   "cell_type": "code",
   "execution_count": 2,
   "metadata": {
    "collapsed": false
   },
   "outputs": [],
   "source": [
    "from halotools.sim_manager import CachedHaloCatalog\n",
    "halocat = CachedHaloCatalog(simname='diemerL0500', halo_finder='rockstar',\\\n",
    "                            version_name='antonio', redshift=0, ptcl_version_name='antonioz0') "
   ]
  },
  {
   "cell_type": "code",
   "execution_count": 3,
   "metadata": {
    "collapsed": false
   },
   "outputs": [
    {
     "data": {
      "text/html": [
       "&lt;Table length=107369756&gt;\n",
       "<table id=\"table139647963305680\" class=\"table-striped table-bordered table-condensed\">\n",
       "<thead><tr><th>y</th><th>x</th><th>z</th></tr></thead>\n",
       "<thead><tr><th>float64</th><th>float64</th><th>float64</th></tr></thead>\n",
       "<tr><td>1.41935694218</td><td>0.363353997469</td><td>0.0955781787634</td></tr>\n",
       "<tr><td>1.76393568516</td><td>1.09569215775</td><td>0.477158427238</td></tr>\n",
       "<tr><td>1.67095923424</td><td>1.26066601276</td><td>0.580690264702</td></tr>\n",
       "<tr><td>1.50711679459</td><td>1.1268042326</td><td>1.24576616287</td></tr>\n",
       "<tr><td>0.930774450302</td><td>0.551320850849</td><td>1.16015350819</td></tr>\n",
       "<tr><td>0.49293833971</td><td>0.700655162334</td><td>1.02336525917</td></tr>\n",
       "<tr><td>1.45074760914</td><td>1.40582668781</td><td>2.0348713398</td></tr>\n",
       "<tr><td>0.667046368122</td><td>1.59411811829</td><td>2.13276982307</td></tr>\n",
       "<tr><td>0.356874614954</td><td>2.41091656685</td><td>2.5070078373</td></tr>\n",
       "<tr><td>0.0598349459469</td><td>1.96586048603</td><td>2.88912463188</td></tr>\n",
       "<tr><td>...</td><td>...</td><td>...</td></tr>\n",
       "<tr><td>0.753959596157</td><td>0.563231527805</td><td>498.306549072</td></tr>\n",
       "<tr><td>1.18716287613</td><td>0.28568276763</td><td>498.064880371</td></tr>\n",
       "<tr><td>1.18160617352</td><td>0.302742958069</td><td>498.047698975</td></tr>\n",
       "<tr><td>1.42512798309</td><td>1.61547935009</td><td>498.411743164</td></tr>\n",
       "<tr><td>1.36589705944</td><td>1.61929535866</td><td>498.42880249</td></tr>\n",
       "<tr><td>1.35986840725</td><td>1.61317980289</td><td>498.449310303</td></tr>\n",
       "<tr><td>0.138278618455</td><td>1.53649389744</td><td>499.902008057</td></tr>\n",
       "<tr><td>0.868327975273</td><td>0.126048967242</td><td>499.769042969</td></tr>\n",
       "<tr><td>0.956912279129</td><td>0.947299361229</td><td>499.210540771</td></tr>\n",
       "<tr><td>0.00560174928978</td><td>0.43722614646</td><td>499.605133057</td></tr>\n",
       "</table>"
      ],
      "text/plain": [
       "<Table length=107369756>\n",
       "       y               x               z       \n",
       "    float64         float64         float64    \n",
       "---------------- -------------- ---------------\n",
       "   1.41935694218 0.363353997469 0.0955781787634\n",
       "   1.76393568516  1.09569215775  0.477158427238\n",
       "   1.67095923424  1.26066601276  0.580690264702\n",
       "   1.50711679459   1.1268042326   1.24576616287\n",
       "  0.930774450302 0.551320850849   1.16015350819\n",
       "   0.49293833971 0.700655162334   1.02336525917\n",
       "   1.45074760914  1.40582668781    2.0348713398\n",
       "  0.667046368122  1.59411811829   2.13276982307\n",
       "  0.356874614954  2.41091656685    2.5070078373\n",
       " 0.0598349459469  1.96586048603   2.88912463188\n",
       "             ...            ...             ...\n",
       "  0.753959596157 0.563231527805   498.306549072\n",
       "   1.18716287613  0.28568276763   498.064880371\n",
       "   1.18160617352 0.302742958069   498.047698975\n",
       "   1.42512798309  1.61547935009   498.411743164\n",
       "   1.36589705944  1.61929535866    498.42880249\n",
       "   1.35986840725  1.61317980289   498.449310303\n",
       "  0.138278618455  1.53649389744   499.902008057\n",
       "  0.868327975273 0.126048967242   499.769042969\n",
       "  0.956912279129 0.947299361229   499.210540771\n",
       "0.00560174928978  0.43722614646   499.605133057"
      ]
     },
     "execution_count": 3,
     "metadata": {},
     "output_type": "execute_result"
    }
   ],
   "source": [
    "halocat.ptcl_table"
   ]
  },
  {
   "cell_type": "code",
   "execution_count": 12,
   "metadata": {
    "collapsed": true
   },
   "outputs": [],
   "source": [
    "del ptcl_pos"
   ]
  },
  {
   "cell_type": "code",
   "execution_count": 4,
   "metadata": {
    "collapsed": false
   },
   "outputs": [
    {
     "name": "stdout",
     "output_type": "stream",
     "text": [
      "1.033950e+10\n"
     ]
    }
   ],
   "source": [
    "print '%e'%halocat.particle_mass"
   ]
  },
  {
   "cell_type": "code",
   "execution_count": 27,
   "metadata": {
    "collapsed": false
   },
   "outputs": [
    {
     "data": {
      "text/plain": [
       "[]"
      ]
     },
     "execution_count": 27,
     "metadata": {},
     "output_type": "execute_result"
    }
   ],
   "source": [
    "halocat.ptcl_table.meta.keys()"
   ]
  },
  {
   "cell_type": "code",
   "execution_count": 22,
   "metadata": {
    "collapsed": false
   },
   "outputs": [
    {
     "data": {
      "text/plain": [
       "0.09999587759375572"
      ]
     },
     "execution_count": 22,
     "metadata": {},
     "output_type": "execute_result"
    }
   ],
   "source": [
    "len(halocat.ptcl_table)/1024.**3"
   ]
  },
  {
   "cell_type": "code",
   "execution_count": null,
   "metadata": {
    "collapsed": true
   },
   "outputs": [],
   "source": []
  }
 ],
 "metadata": {
  "kernelspec": {
   "display_name": "Python 2",
   "language": "python",
   "name": "python2"
  },
  "language_info": {
   "codemirror_mode": {
    "name": "ipython",
    "version": 2
   },
   "file_extension": ".py",
   "mimetype": "text/x-python",
   "name": "python",
   "nbconvert_exporter": "python",
   "pygments_lexer": "ipython2",
   "version": "2.7.12"
  }
 },
 "nbformat": 4,
 "nbformat_minor": 0
}
